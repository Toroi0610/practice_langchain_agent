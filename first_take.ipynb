{
 "cells": [
  {
   "cell_type": "code",
   "execution_count": 8,
   "metadata": {},
   "outputs": [],
   "source": [
    "!pip install -qU langchain openai"
   ]
  },
  {
   "cell_type": "code",
   "execution_count": 2,
   "metadata": {},
   "outputs": [],
   "source": [
    "import os\n",
    "\n",
    "path_api_key = \"./secret/openai-api\"\n",
    "with open(path_api_key, \"r\") as f:\n",
    "    token = f.readline()\n",
    "\n",
    "os.environ[\"OPENAI_API_KEY\"] = token"
   ]
  },
  {
   "cell_type": "code",
   "execution_count": 3,
   "metadata": {},
   "outputs": [],
   "source": [
    "from langchain.tools import AIPluginTool\n",
    "\n",
    "# ChatGPTプラグインをツールとして読み込む\n",
    "tool = AIPluginTool.from_plugin_url(\n",
    "    \"https://www.klarna.com/.well-known/ai-plugin.json\")"
   ]
  },
  {
   "cell_type": "code",
   "execution_count": 5,
   "metadata": {},
   "outputs": [],
   "source": [
    "from langchain.chat_models import ChatOpenAI\n",
    "from langchain.agents import load_tools, initialize_agent\n",
    "\n",
    "# エージェントの準備\n",
    "llm = ChatOpenAI(temperature=0, )\n",
    "tools = load_tools([\"requests\"])\n",
    "tools += [tool]\n",
    "agent_chain = initialize_agent(\n",
    "    tools, \n",
    "    llm, \n",
    "    agent=\"zero-shot-react-description\", \n",
    "    verbose=True\n",
    ")"
   ]
  },
  {
   "cell_type": "code",
   "execution_count": 7,
   "metadata": {},
   "outputs": [
    {
     "name": "stdout",
     "output_type": "stream",
     "text": [
      "\n",
      "\n",
      "\u001b[1m> Entering new AgentExecutor chain...\u001b[0m\n",
      "\u001b[32;1m\u001b[1;3mI need to access the Klarna Shopping API to see what products are available.\n",
      "Action: KlarnaProducts\n",
      "Action Input: None\u001b[0m\n",
      "Observation: \u001b[33;1m\u001b[1;3mUsage Guide: Use the Klarna plugin to get relevant product suggestions for any shopping or researching purpose. The query to be sent should not include stopwords like articles, prepositions and determinants. The api works best when searching for words that are related to products, like their name, brand, model or category. Links will always be returned and should be shown to the user.\n",
      "\n",
      "OpenAPI Spec: {'openapi': '3.0.1', 'info': {'version': 'v0', 'title': 'Open AI Klarna product Api'}, 'servers': [{'url': 'https://www.klarna.com/us/shopping'}], 'tags': [{'name': 'open-ai-product-endpoint', 'description': 'Open AI Product Endpoint. Query for products.'}], 'paths': {'/public/openai/v0/products': {'get': {'tags': ['open-ai-product-endpoint'], 'summary': 'API for fetching Klarna product information', 'operationId': 'productsUsingGET', 'parameters': [{'name': 'q', 'in': 'query', 'description': 'query, must be between 2 and 100 characters', 'required': True, 'schema': {'type': 'string'}}, {'name': 'size', 'in': 'query', 'description': 'number of products returned', 'required': False, 'schema': {'type': 'integer'}}, {'name': 'budget', 'in': 'query', 'description': 'maximum price of the matching product in local currency, filters results', 'required': False, 'schema': {'type': 'integer'}}], 'responses': {'200': {'description': 'Products found', 'content': {'application/json': {'schema': {'$ref': '#/components/schemas/ProductResponse'}}}}, '503': {'description': 'one or more services are unavailable'}}, 'deprecated': False}}}, 'components': {'schemas': {'Product': {'type': 'object', 'properties': {'attributes': {'type': 'array', 'items': {'type': 'string'}}, 'name': {'type': 'string'}, 'price': {'type': 'string'}, 'url': {'type': 'string'}}, 'title': 'Product'}, 'ProductResponse': {'type': 'object', 'properties': {'products': {'type': 'array', 'items': {'$ref': '#/components/schemas/Product'}}}, 'title': 'ProductResponse'}}}}\u001b[0m\n",
      "Thought:\u001b[32;1m\u001b[1;3mI need to use the Klarna Shopping API to search for pants.\n",
      "Action: requests_get\n",
      "Action Input: https://www.klarna.com/us/shopping/public/openai/v0/products?q=pants\u001b[0m\n",
      "Observation: \u001b[36;1m\u001b[1;3m{\"products\":[{\"name\":\"adidas Tiro 21 Track Pants\",\"url\":\"https://www.klarna.com/us/shopping/pl/cl10001/3202090000/Clothing/adidas-Tiro-21-Track-Pants/?source=openai\",\"price\":\"$21.29\",\"attributes\":[\"Material:Polyester\",\"Target Group:Man\",\"Color:Red,Gray,White,Black\",\"Properties:Pockets\",\"Environmental Attributes :Recycled Material\"]},{\"name\":\"Nike Club Fleece Cargo Pants - Black/White\",\"url\":\"https://www.klarna.com/us/shopping/pl/cl10001/5176577/Clothing/Nike-Club-Fleece-Cargo-Pants-Black-White/?source=openai\",\"price\":\"$42.00\",\"attributes\":[\"Material:Polyester,Cotton\",\"Target Group:Man\",\"Color:Black\",\"Properties:Pockets\",\"Pattern:Solid Color\"]},{\"name\":\"Figs Zamora Jogger Scrub Pants\",\"url\":\"https://www.klarna.com/us/shopping/pl/cl10001/3202988985/Clothing/Figs-Zamora-Jogger-Scrub-Pants/?source=openai\",\"price\":\"$48.00\",\"attributes\":[\"Material:Polyester,Elastane/Lycra/Spandex,Rayon\",\"Target Group:Woman\",\"Color:Red,Brown,Gray,Pink,Blue,Purple,Beige,Black,Orange,Green\",\"Properties:Pockets\"]},{\"name\":\"mnml Vintage Cargo Pants\",\"url\":\"https://www.klarna.com/us/shopping/pl/cl10001/3203256604/Clothing/mnml-Vintage-Cargo-Pants/?source=openai\",\"price\":\"$30.00\",\"attributes\":[\"Material:Cotton\",\"Target Group:Man\",\"Color:Black,Orange,Green\",\"Properties:Pockets\"]},{\"name\":\"Dickies EDS Essentials Scrubs Pant\",\"url\":\"https://www.klarna.com/us/shopping/pl/cl10001/3202076871/Clothing/Dickies-EDS-Essentials-Scrubs-Pant/?source=openai\",\"price\":\"$25.99\",\"attributes\":[\"Material:Polyester,Elastane/Lycra/Spandex\",\"Target Group:Woman\",\"Color:Red,Gray,White,Blue,Black\",\"Pattern:Solid Color\"]}]}\u001b[0m\n",
      "Thought:\u001b[32;1m\u001b[1;3mI found several pants available on Klarna Shopping API.\n",
      "Final Answer: Adidas Tiro 21 Track Pants, Nike Club Fleece Cargo Pants, Figs Zamora Jogger Scrub Pants, mnml Vintage Cargo Pants, and Dickies EDS Essentials Scrubs Pant are some of the pants available on Klarna Shopping API.\u001b[0m\n",
      "\n",
      "\u001b[1m> Finished chain.\u001b[0m\n"
     ]
    },
    {
     "data": {
      "text/plain": [
       "'Adidas Tiro 21 Track Pants, Nike Club Fleece Cargo Pants, Figs Zamora Jogger Scrub Pants, mnml Vintage Cargo Pants, and Dickies EDS Essentials Scrubs Pant are some of the pants available on Klarna Shopping API.'"
      ]
     },
     "execution_count": 7,
     "metadata": {},
     "output_type": "execute_result"
    }
   ],
   "source": [
    "# 質問応答\n",
    "agent_chain.run(\"klarnaではどんなズボンが買えるの?\")"
   ]
  },
  {
   "cell_type": "code",
   "execution_count": null,
   "metadata": {},
   "outputs": [],
   "source": []
  }
 ],
 "metadata": {
  "kernelspec": {
   "display_name": "datascience",
   "language": "python",
   "name": "python3"
  },
  "language_info": {
   "codemirror_mode": {
    "name": "ipython",
    "version": 3
   },
   "file_extension": ".py",
   "mimetype": "text/x-python",
   "name": "python",
   "nbconvert_exporter": "python",
   "pygments_lexer": "ipython3",
   "version": "3.9.13"
  },
  "orig_nbformat": 4
 },
 "nbformat": 4,
 "nbformat_minor": 2
}
